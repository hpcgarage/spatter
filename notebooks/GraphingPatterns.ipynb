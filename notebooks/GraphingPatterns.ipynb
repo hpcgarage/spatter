{
 "cells": [
  {
   "cell_type": "markdown",
   "id": "27182f35",
   "metadata": {},
   "source": [
    "# Graphing and Analyzing Patterns"
   ]
  },
  {
   "cell_type": "markdown",
   "id": "3cf32123",
   "metadata": {},
   "source": [
    "For ease of visualization and analysis, we will be using [Plotly](https://plotly.com/) as our graphing tool. Interactive can be quite helpful when analyzing Gather/Scatter patterns. "
   ]
  },
  {
   "cell_type": "code",
   "execution_count": null,
   "id": "40ec2c4f",
   "metadata": {},
   "outputs": [],
   "source": [
    "!pip install plotly"
   ]
  },
  {
   "cell_type": "code",
   "execution_count": null,
   "id": "8e335306",
   "metadata": {},
   "outputs": [],
   "source": [
    "import json\n",
    "import plotly.express as px\n",
    "import pandas as pd\n",
    "import numpy as np\n",
    "from scipy import stats"
   ]
  },
  {
   "cell_type": "code",
   "execution_count": null,
   "id": "2325be96",
   "metadata": {},
   "outputs": [],
   "source": [
    "df = pd.read_json(\"roitrace.00.CycleTrackingFunction.bin.json\")\n",
    "print(df)"
   ]
  },
  {
   "cell_type": "markdown",
   "id": "c883fb50",
   "metadata": {},
   "source": [
    "The JSON file will contain memory patterns which resulted from specific code instructions. The code instructions are specified in **roitrace.00.CycleTrackingFunction.bin.txt**, which should have been outputed with gs_patterns as well.\n",
    "\n",
    "This file contains 10 Gather and 10 Scatter patterns. \n",
    "In the dataframe **df** that we just created, Gathers are 0-9, and Scatters are 10-19. \n",
    "\n",
    "Let's look at the first Gather."
   ]
  },
  {
   "cell_type": "code",
   "execution_count": null,
   "id": "699c9328",
   "metadata": {},
   "outputs": [],
   "source": [
    "gather = df.get(\"pattern\")[0]\n",
    "delta = np.diff(gather)\n",
    "print(\"Gather 0 \\nPattern length:\" +  str(len(gather)))\n",
    "print(\"Min (Pattern): \" + str(min(gather)))\n",
    "print(\"Max (Pattern): \" + str(max(gather)))\n",
    "print(\"Min (Delta): \" + str(min(delta)))\n",
    "print(\"Max (Delta): \" + str(max(delta)))\n",
    "description = stats.describe(delta)[2:]\n",
    "print(\"Mean (Delta): \" + str(description[0]))\n",
    "print(\"Variance (Delta): \" + str(description[1]))\n",
    "print(\"Skew (Delta): \" + str(description[2]))\n",
    "print(\"Kurtosis: \" + str(description[3]))"
   ]
  },
  {
   "cell_type": "code",
   "execution_count": null,
   "id": "740a68dc",
   "metadata": {},
   "outputs": [],
   "source": [
    "#Gather Histogram\n",
    "fig_gather_hist = px.histogram(x=gather, \n",
    "title=\"Quicksilver - AllAbsorb - CycleTrackingFunction, Bandwidth Histogram, Gather 0\",\n",
    "log_y=True).update_layout(yaxis_title=\"count\", xaxis_title=\"pattern[i]\")\n",
    "fig_gather_hist.show()"
   ]
  },
  {
   "cell_type": "markdown",
   "id": "35b6b8bf",
   "metadata": {},
   "source": [
    "Due to its size, Plotly might crash while trying to graph the pattern. We will only graph a range of this pattern for this demo.\n",
    "\n",
    "Plotly allows you to pan, zoom in, and get info about specific data points. Hover over the plot to see available options, and hover over specific data points to get more info  "
   ]
  },
  {
   "cell_type": "code",
   "execution_count": null,
   "id": "656b6151",
   "metadata": {},
   "outputs": [],
   "source": [
    "#Gather Bandwidth\n",
    "gather_ranged = gather[0:10000]\n",
    "fig_gather = px.scatter(y=gather_ranged, \n",
    "title=\"Quicksilver - AllAbsorb - CycleTrackingFunction, Bandwidth, Gather 0\").update_layout(xaxis_title=\"i\", yaxis_title=\"pattern[i]\")\n",
    "fig_gather.show()"
   ]
  },
  {
   "cell_type": "code",
   "execution_count": null,
   "id": "234ca5ee",
   "metadata": {},
   "outputs": [],
   "source": [
    "#Gather delta\n",
    "delta_ranged = delta[0:10000]\n",
    "fig_delta = px.scatter(y=delta_ranged, \n",
    "title=\"Quicksilver - AllAbsorb - CycleTrackingFunction, Delta, Gather 0\", log_x=True).update_layout(xaxis_title=\"time\", yaxis_title=\"delta\")\n",
    "fig_delta.show()"
   ]
  },
  {
   "cell_type": "code",
   "execution_count": null,
   "id": "932a4ccf",
   "metadata": {},
   "outputs": [],
   "source": [
    "#Gather delta histogram\n",
    "fig_delta_hist = px.histogram(x=delta,\n",
    "title=\"Quicksilver - AllAbsorb - CycleTrackingFunction, Delta Histogram, Gather 0\",\n",
    "log_y=True).update_layout(yaxis_title=\"count\", xaxis_title=\"delta\")\n",
    "fig_delta_hist.show()"
   ]
  }
 ],
 "metadata": {
  "kernelspec": {
   "display_name": "Python 3 (ipykernel)",
   "language": "python",
   "name": "python3"
  },
  "language_info": {
   "codemirror_mode": {
    "name": "ipython",
    "version": 3
   },
   "file_extension": ".py",
   "mimetype": "text/x-python",
   "name": "python",
   "nbconvert_exporter": "python",
   "pygments_lexer": "ipython3",
   "version": "3.11.4"
  }
 },
 "nbformat": 4,
 "nbformat_minor": 5
}
